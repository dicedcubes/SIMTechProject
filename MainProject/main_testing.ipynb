{
 "cells": [
  {
   "cell_type": "code",
   "execution_count": 1,
   "metadata": {},
   "outputs": [],
   "source": [
    "import sys\n",
    "sys.path.append('utils')\n",
    "\n",
    "from dotenv import load_dotenv\n",
    "load_dotenv()\n",
    "\n",
    "import importlib\n",
    "from utils import scripts\n",
    "import matplotlib.pyplot as plt\n",
    "\n",
    "from langchain_openai import ChatOpenAI\n",
    "from langchain_core.prompts import ChatPromptTemplate, MessagesPlaceholder\n",
    "from langchain.agents import AgentExecutor, create_tool_calling_agent\n",
    "from langchain_core.tools import tool\n",
    "from langchain_core.messages import HumanMessage, AIMessage\n",
    "model = ChatOpenAI(model=\"gpt-4o\", temperature=0)"
   ]
  },
  {
   "cell_type": "code",
   "execution_count": 2,
   "metadata": {},
   "outputs": [
    {
     "data": {
      "text/plain": [
       "<matplotlib.collections.PathCollection at 0x28ec635f0>"
      ]
     },
     "execution_count": 2,
     "metadata": {},
     "output_type": "execute_result"
    }
   ],
   "source": [
    "importlib.reload(scripts)\n",
    "\n",
    "scripts.load_data(\"../../data/customer_purchase_data.csv\")\n",
    "# lda = scripts.run_lda(test_ratio = 0.20)\n",
    "# qda = scripts.run_qda(test_ratio = 0.50)\n",
    "pca = scripts.run_pca(test_ratio = 0.20)\n",
    "\n",
    "c = scripts.get_cache()\n",
    "d = c['pca_projection']\n",
    "ax = plt.figure().add_subplot()\n",
    "ax.scatter(d[:, 0], d[:, 1])"
   ]
  },
  {
   "cell_type": "code",
   "execution_count": 2,
   "metadata": {},
   "outputs": [
    {
     "data": {
      "text/plain": [
       "array([1., 1., 1., 1., 1., 1., 1., 1., 1., 1., 1., 1., 1., 1., 1., 1., 1.,\n",
       "       1., 1., 1.])"
      ]
     },
     "execution_count": 2,
     "metadata": {},
     "output_type": "execute_result"
    }
   ],
   "source": [
    "scripts.load_data(\"../../data/customer_purchase_data.csv\")\n",
    "scripts.run_lda(test_ratio = 0.2)\n",
    "scripts.load_data(\"../../data/b.csv\")\n",
    "scripts.set_input()\n",
    "scripts.predict(\"lda\")"
   ]
  },
  {
   "cell_type": "code",
   "execution_count": 6,
   "metadata": {},
   "outputs": [
    {
     "data": {
      "text/plain": [
       "array([1.])"
      ]
     },
     "execution_count": 6,
     "metadata": {},
     "output_type": "execute_result"
    }
   ],
   "source": [
    "c['lda'].predict([[20,1,23579.773583030514,4,2,38.240096605544196,0,5]])"
   ]
  },
  {
   "cell_type": "code",
   "execution_count": 14,
   "metadata": {},
   "outputs": [],
   "source": [
    "importlib.reload(scripts)\n",
    "prompt = ChatPromptTemplate.from_messages(\n",
    "    [\n",
    "        (\"system\", \"You are given tools for loading data and building LDA, QDA, and PCA.\"),\n",
    "        (\"human\", \"{input}\"),\n",
    "        MessagesPlaceholder(\"agent_scratchpad\"),\n",
    "    ]\n",
    ")\n",
    "\n",
    "model = ChatOpenAI(model=\"gpt-4o\", temperature=0)\n",
    "agent = create_tool_calling_agent(model, scripts.tz, prompt)\n",
    "agent_exec = AgentExecutor(agent=agent, tools=scripts.tz, verbose=True)"
   ]
  },
  {
   "cell_type": "code",
   "execution_count": null,
   "metadata": {},
   "outputs": [],
   "source": [
    "res = agent_exec.invoke(\n",
    "    {\n",
    "        \"input\": (\n",
    "            \"I have data in '../../data/customer_purchase_data.csv'. Try test data ratios of 0.1, 0.2, 0.5, 0.8, and 0.99 for training both LDA and QDA models, and tell me what the differences are.\"\n",
    "        )\n",
    "    }\n",
    ")"
   ]
  }
 ],
 "metadata": {
  "kernelspec": {
   "display_name": ".venv",
   "language": "python",
   "name": "python3"
  },
  "language_info": {
   "codemirror_mode": {
    "name": "ipython",
    "version": 3
   },
   "file_extension": ".py",
   "mimetype": "text/x-python",
   "name": "python",
   "nbconvert_exporter": "python",
   "pygments_lexer": "ipython3",
   "version": "3.12.2"
  }
 },
 "nbformat": 4,
 "nbformat_minor": 2
}
